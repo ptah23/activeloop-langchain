{
 "cells": [
  {
   "cell_type": "code",
   "execution_count": 20,
   "id": "1f2d097b-bfe8-4155-b09d-4d38030176f6",
   "metadata": {},
   "outputs": [
    {
     "name": "stdout",
     "output_type": "stream",
     "text": [
      "Requirement already satisfied: langchain==0.0.208 in /usr/local/lib/python3.9/dist-packages (0.0.208)\n",
      "Requirement already satisfied: deeplake in /usr/local/lib/python3.9/dist-packages (3.6.17)\n",
      "Requirement already satisfied: openai in /usr/local/lib/python3.9/dist-packages (0.27.8)\n",
      "Requirement already satisfied: tiktoken in /usr/local/lib/python3.9/dist-packages (0.4.0)\n",
      "Requirement already satisfied: pydantic in /usr/local/lib/python3.9/dist-packages (1.10.12)\n",
      "Collecting pydantic\n",
      "  Using cached pydantic-2.1.1-py3-none-any.whl (370 kB)\n",
      "Collecting duckduckgo-search\n",
      "  Downloading duckduckgo_search-3.8.4-py3-none-any.whl (18 kB)\n",
      "Requirement already satisfied: async-timeout<5.0.0,>=4.0.0 in /usr/local/lib/python3.9/dist-packages (from langchain==0.0.208) (4.0.2)\n",
      "Requirement already satisfied: dataclasses-json<0.6.0,>=0.5.7 in /usr/local/lib/python3.9/dist-packages (from langchain==0.0.208) (0.5.14)\n",
      "Requirement already satisfied: aiohttp<4.0.0,>=3.8.3 in /usr/local/lib/python3.9/dist-packages (from langchain==0.0.208) (3.8.3)\n",
      "Requirement already satisfied: PyYAML>=5.4.1 in /usr/local/lib/python3.9/dist-packages (from langchain==0.0.208) (5.4.1)\n",
      "Requirement already satisfied: langchainplus-sdk>=0.0.13 in /usr/local/lib/python3.9/dist-packages (from langchain==0.0.208) (0.0.20)\n",
      "Requirement already satisfied: tenacity<9.0.0,>=8.1.0 in /usr/local/lib/python3.9/dist-packages (from langchain==0.0.208) (8.2.2)\n",
      "Requirement already satisfied: SQLAlchemy<3,>=1.4 in /usr/local/lib/python3.9/dist-packages (from langchain==0.0.208) (1.4.41)\n",
      "Requirement already satisfied: requests<3,>=2 in /usr/local/lib/python3.9/dist-packages (from langchain==0.0.208) (2.28.2)\n",
      "Requirement already satisfied: numexpr<3.0.0,>=2.8.4 in /usr/local/lib/python3.9/dist-packages (from langchain==0.0.208) (2.8.4)\n",
      "Requirement already satisfied: openapi-schema-pydantic<2.0,>=1.2 in /usr/local/lib/python3.9/dist-packages (from langchain==0.0.208) (1.2.4)\n",
      "Requirement already satisfied: numpy<2,>=1 in /usr/local/lib/python3.9/dist-packages (from langchain==0.0.208) (1.23.4)\n",
      "Requirement already satisfied: tqdm in /usr/local/lib/python3.9/dist-packages (from deeplake) (4.64.1)\n",
      "Requirement already satisfied: humbug>=0.3.1 in /usr/local/lib/python3.9/dist-packages (from deeplake) (0.3.2)\n",
      "Requirement already satisfied: numcodecs in /usr/local/lib/python3.9/dist-packages (from deeplake) (0.11.0)\n",
      "Requirement already satisfied: pillow in /usr/local/lib/python3.9/dist-packages (from deeplake) (9.2.0)\n",
      "Requirement already satisfied: pyjwt in /usr/local/lib/python3.9/dist-packages (from deeplake) (2.8.0)\n",
      "Requirement already satisfied: click in /usr/local/lib/python3.9/dist-packages (from deeplake) (8.1.3)\n",
      "Requirement already satisfied: pathos in /usr/local/lib/python3.9/dist-packages (from deeplake) (0.3.1)\n",
      "Requirement already satisfied: aioboto3>=10.4.0 in /usr/local/lib/python3.9/dist-packages (from deeplake) (11.2.0)\n",
      "Requirement already satisfied: nest-asyncio in /usr/local/lib/python3.9/dist-packages (from deeplake) (1.5.6)\n",
      "Requirement already satisfied: boto3 in /usr/local/lib/python3.9/dist-packages (from deeplake) (1.26.76)\n",
      "Requirement already satisfied: regex>=2022.1.18 in /usr/local/lib/python3.9/dist-packages (from tiktoken) (2022.10.31)\n",
      "Requirement already satisfied: typing-extensions>=4.2.0 in /usr/local/lib/python3.9/dist-packages (from pydantic) (4.4.0)\n",
      "Collecting lxml>=4.9.2\n",
      "  Downloading lxml-4.9.3-cp39-cp39-manylinux_2_28_x86_64.whl (8.0 MB)\n",
      "\u001b[2K     \u001b[90m━━━━━━━━━━━━━━━━━━━━━━━━━━━━━━━━━━━━━━━━\u001b[0m \u001b[32m8.0/8.0 MB\u001b[0m \u001b[31m59.0 MB/s\u001b[0m eta \u001b[36m0:00:00\u001b[0m:00:01\u001b[0m00:01\u001b[0m\n",
      "\u001b[?25hCollecting aiofiles>=23.1.0\n",
      "  Downloading aiofiles-23.1.0-py3-none-any.whl (14 kB)\n",
      "Collecting httpx[brotli,http2,socks]>=0.24.1\n",
      "  Downloading httpx-0.24.1-py3-none-any.whl (75 kB)\n",
      "\u001b[2K     \u001b[90m━━━━━━━━━━━━━━━━━━━━━━━━━━━━━━━━━━━━━━━━\u001b[0m \u001b[32m75.4/75.4 kB\u001b[0m \u001b[31m19.1 MB/s\u001b[0m eta \u001b[36m0:00:00\u001b[0m\n",
      "\u001b[?25hRequirement already satisfied: aiobotocore[boto3]==2.5.0 in /usr/local/lib/python3.9/dist-packages (from aioboto3>=10.4.0->deeplake) (2.5.0)\n",
      "Requirement already satisfied: botocore<1.29.77,>=1.29.76 in /usr/local/lib/python3.9/dist-packages (from aiobotocore[boto3]==2.5.0->aioboto3>=10.4.0->deeplake) (1.29.76)\n",
      "Requirement already satisfied: wrapt>=1.10.10 in /usr/local/lib/python3.9/dist-packages (from aiobotocore[boto3]==2.5.0->aioboto3>=10.4.0->deeplake) (1.14.1)\n",
      "Requirement already satisfied: aioitertools>=0.5.1 in /usr/local/lib/python3.9/dist-packages (from aiobotocore[boto3]==2.5.0->aioboto3>=10.4.0->deeplake) (0.11.0)\n",
      "Requirement already satisfied: aiosignal>=1.1.2 in /usr/local/lib/python3.9/dist-packages (from aiohttp<4.0.0,>=3.8.3->langchain==0.0.208) (1.3.1)\n",
      "Requirement already satisfied: yarl<2.0,>=1.0 in /usr/local/lib/python3.9/dist-packages (from aiohttp<4.0.0,>=3.8.3->langchain==0.0.208) (1.8.2)\n",
      "Requirement already satisfied: multidict<7.0,>=4.5 in /usr/local/lib/python3.9/dist-packages (from aiohttp<4.0.0,>=3.8.3->langchain==0.0.208) (6.0.4)\n",
      "Requirement already satisfied: attrs>=17.3.0 in /usr/local/lib/python3.9/dist-packages (from aiohttp<4.0.0,>=3.8.3->langchain==0.0.208) (18.2.0)\n",
      "Requirement already satisfied: charset-normalizer<3.0,>=2.0 in /usr/local/lib/python3.9/dist-packages (from aiohttp<4.0.0,>=3.8.3->langchain==0.0.208) (2.1.1)\n",
      "Requirement already satisfied: frozenlist>=1.1.1 in /usr/local/lib/python3.9/dist-packages (from aiohttp<4.0.0,>=3.8.3->langchain==0.0.208) (1.3.3)\n",
      "Requirement already satisfied: s3transfer<0.7.0,>=0.6.0 in /usr/local/lib/python3.9/dist-packages (from boto3->deeplake) (0.6.0)\n",
      "Requirement already satisfied: jmespath<2.0.0,>=0.7.1 in /usr/local/lib/python3.9/dist-packages (from boto3->deeplake) (1.0.1)\n",
      "Requirement already satisfied: typing-inspect<1,>=0.4.0 in /usr/local/lib/python3.9/dist-packages (from dataclasses-json<0.6.0,>=0.5.7->langchain==0.0.208) (0.9.0)\n",
      "Requirement already satisfied: marshmallow<4.0.0,>=3.18.0 in /usr/local/lib/python3.9/dist-packages (from dataclasses-json<0.6.0,>=0.5.7->langchain==0.0.208) (3.20.1)\n",
      "Requirement already satisfied: sniffio in /usr/local/lib/python3.9/dist-packages (from httpx[brotli,http2,socks]>=0.24.1->duckduckgo-search) (1.3.0)\n",
      "Collecting httpcore<0.18.0,>=0.15.0\n",
      "  Downloading httpcore-0.17.3-py3-none-any.whl (74 kB)\n",
      "\u001b[2K     \u001b[90m━━━━━━━━━━━━━━━━━━━━━━━━━━━━━━━━━━━━━━━━\u001b[0m \u001b[32m74.5/74.5 kB\u001b[0m \u001b[31m19.7 MB/s\u001b[0m eta \u001b[36m0:00:00\u001b[0m\n",
      "\u001b[?25hRequirement already satisfied: idna in /usr/lib/python3/dist-packages (from httpx[brotli,http2,socks]>=0.24.1->duckduckgo-search) (2.8)\n",
      "Requirement already satisfied: certifi in /usr/lib/python3/dist-packages (from httpx[brotli,http2,socks]>=0.24.1->duckduckgo-search) (2019.11.28)\n",
      "Collecting socksio==1.*\n",
      "  Downloading socksio-1.0.0-py3-none-any.whl (12 kB)\n",
      "Collecting h2<5,>=3\n",
      "  Downloading h2-4.1.0-py3-none-any.whl (57 kB)\n",
      "\u001b[2K     \u001b[90m━━━━━━━━━━━━━━━━━━━━━━━━━━━━━━━━━━━━━━━━\u001b[0m \u001b[32m57.5/57.5 kB\u001b[0m \u001b[31m7.2 MB/s\u001b[0m eta \u001b[36m0:00:00\u001b[0m\n",
      "\u001b[?25hCollecting brotli\n",
      "  Downloading Brotli-1.0.9-cp39-cp39-manylinux1_x86_64.whl (357 kB)\n",
      "\u001b[2K     \u001b[90m━━━━━━━━━━━━━━━━━━━━━━━━━━━━━━━━━━━━━━\u001b[0m \u001b[32m357.2/357.2 kB\u001b[0m \u001b[31m54.8 MB/s\u001b[0m eta \u001b[36m0:00:00\u001b[0m\n",
      "\u001b[?25hRequirement already satisfied: urllib3<1.27,>=1.21.1 in /usr/local/lib/python3.9/dist-packages (from requests<3,>=2->langchain==0.0.208) (1.26.14)\n",
      "Requirement already satisfied: greenlet!=0.4.17 in /usr/local/lib/python3.9/dist-packages (from SQLAlchemy<3,>=1.4->langchain==0.0.208) (2.0.1)\n",
      "Requirement already satisfied: entrypoints in /usr/local/lib/python3.9/dist-packages (from numcodecs->deeplake) (0.4)\n",
      "Requirement already satisfied: dill>=0.3.7 in /usr/local/lib/python3.9/dist-packages (from pathos->deeplake) (0.3.7)\n",
      "Requirement already satisfied: multiprocess>=0.70.15 in /usr/local/lib/python3.9/dist-packages (from pathos->deeplake) (0.70.15)\n",
      "Requirement already satisfied: pox>=0.3.3 in /usr/local/lib/python3.9/dist-packages (from pathos->deeplake) (0.3.3)\n",
      "Requirement already satisfied: ppft>=1.7.6.7 in /usr/local/lib/python3.9/dist-packages (from pathos->deeplake) (1.7.6.7)\n",
      "Requirement already satisfied: python-dateutil<3.0.0,>=2.1 in /usr/local/lib/python3.9/dist-packages (from botocore<1.29.77,>=1.29.76->aiobotocore[boto3]==2.5.0->aioboto3>=10.4.0->deeplake) (2.8.2)\n",
      "Collecting hpack<5,>=4.0\n",
      "  Downloading hpack-4.0.0-py3-none-any.whl (32 kB)\n",
      "Collecting hyperframe<7,>=6.0\n",
      "  Downloading hyperframe-6.0.1-py3-none-any.whl (12 kB)\n",
      "Collecting h11<0.15,>=0.13\n",
      "  Downloading h11-0.14.0-py3-none-any.whl (58 kB)\n",
      "\u001b[2K     \u001b[90m━━━━━━━━━━━━━━━━━━━━━━━━━━━━━━━━━━━━━━━━\u001b[0m \u001b[32m58.3/58.3 kB\u001b[0m \u001b[31m16.8 MB/s\u001b[0m eta \u001b[36m0:00:00\u001b[0m\n",
      "\u001b[?25hRequirement already satisfied: anyio<5.0,>=3.0 in /usr/local/lib/python3.9/dist-packages (from httpcore<0.18.0,>=0.15.0->httpx[brotli,http2,socks]>=0.24.1->duckduckgo-search) (3.6.2)\n",
      "Requirement already satisfied: packaging>=17.0 in /usr/local/lib/python3.9/dist-packages (from marshmallow<4.0.0,>=3.18.0->dataclasses-json<0.6.0,>=0.5.7->langchain==0.0.208) (23.0)\n",
      "Requirement already satisfied: mypy-extensions>=0.3.0 in /usr/local/lib/python3.9/dist-packages (from typing-inspect<1,>=0.4.0->dataclasses-json<0.6.0,>=0.5.7->langchain==0.0.208) (1.0.0)\n",
      "Requirement already satisfied: six>=1.5 in /usr/lib/python3/dist-packages (from python-dateutil<3.0.0,>=2.1->botocore<1.29.77,>=1.29.76->aiobotocore[boto3]==2.5.0->aioboto3>=10.4.0->deeplake) (1.14.0)\n",
      "Installing collected packages: brotli, socksio, lxml, hyperframe, hpack, h11, aiofiles, httpcore, h2, httpx, duckduckgo-search\n",
      "  Attempting uninstall: lxml\n",
      "    Found existing installation: lxml 4.5.0\n",
      "    Uninstalling lxml-4.5.0:\n",
      "      Successfully uninstalled lxml-4.5.0\n",
      "Successfully installed aiofiles-23.1.0 brotli-1.0.9 duckduckgo-search-3.8.4 h11-0.14.0 h2-4.1.0 hpack-4.0.0 httpcore-0.17.3 httpx-0.24.1 hyperframe-6.0.1 lxml-4.9.3 socksio-1.0.0\n",
      "\u001b[33mWARNING: Running pip as the 'root' user can result in broken permissions and conflicting behaviour with the system package manager. It is recommended to use a virtual environment instead: https://pip.pypa.io/warnings/venv\u001b[0m\u001b[33m\n",
      "\u001b[0m"
     ]
    }
   ],
   "source": [
    "!pip install -U langchain==0.0.208 deeplake openai tiktoken pydantic duckduckgo-search"
   ]
  },
  {
   "cell_type": "code",
   "execution_count": 4,
   "id": "7f1b8360-a391-469f-bc09-29a4cbc8396e",
   "metadata": {},
   "outputs": [
    {
     "name": "stdin",
     "output_type": "stream",
     "text": [
      "OpenAI API Key: ········\n"
     ]
    }
   ],
   "source": [
    "import os\n",
    "import getpass\n",
    "\n",
    "os.environ[\"OPENAI_API_KEY\"] = getpass.getpass(\"OpenAI API Key:\")"
   ]
  },
  {
   "cell_type": "code",
   "execution_count": 5,
   "id": "d10ad5d7-284c-47dd-981f-6604b164a179",
   "metadata": {},
   "outputs": [
    {
     "name": "stdin",
     "output_type": "stream",
     "text": [
      "YOUR-ACTIVELOOP-TOKEN> ········\n"
     ]
    }
   ],
   "source": [
    "os.environ[\"ACTIVELOOP_TOKEN\"] = getpass.getpass(\"YOUR-ACTIVELOOP-TOKEN>\")"
   ]
  },
  {
   "cell_type": "markdown",
   "id": "07480512-f4a3-408e-88a2-9353db11f427",
   "metadata": {
    "jp-MarkdownHeadingCollapsed": true,
    "tags": []
   },
   "source": [
    "### The LLMs"
   ]
  },
  {
   "cell_type": "code",
   "execution_count": null,
   "id": "83e3c118-9a34-458f-9f5e-1ad7c1f93d3d",
   "metadata": {},
   "outputs": [],
   "source": [
    "from langchain.llms import OpenAI"
   ]
  },
  {
   "cell_type": "code",
   "execution_count": null,
   "id": "639bfd7c-071e-496b-85f0-c5f0b01337af",
   "metadata": {},
   "outputs": [],
   "source": [
    "import langchain\n",
    "langchain.verbose = False\n",
    "llm = OpenAI(model=\"text-davinci-003\", temperature=0.9)"
   ]
  },
  {
   "cell_type": "code",
   "execution_count": null,
   "id": "2eb3f8c8-ccd4-4748-a128-94b943cc1c1e",
   "metadata": {},
   "outputs": [],
   "source": [
    "text = \"Suggest a personalized workout routine for someone looking to improve jump height and prefers outdoor activities\"\n",
    "print(llm(text))"
   ]
  },
  {
   "cell_type": "markdown",
   "id": "7bf21664-4a4c-49b4-998e-daa22c35619a",
   "metadata": {
    "jp-MarkdownHeadingCollapsed": true,
    "tags": []
   },
   "source": [
    "### The Chains"
   ]
  },
  {
   "cell_type": "code",
   "execution_count": null,
   "id": "31fc2bb5-ff68-4ab7-9f14-0d7bfe10d1eb",
   "metadata": {},
   "outputs": [],
   "source": [
    "from langchain.prompts import PromptTemplate\n",
    "from langchain.llms import OpenAI\n",
    "from langchain.chains import LLMChain\n",
    "\n",
    "llm = OpenAI(model=\"text-davinci-003\", temperature=0.9)\n",
    "prompt = PromptTemplate(input_variables=[\"product\"], template=\"What is a good name for a company that makes {product}?\")\n",
    "chain = LLMChain(llm=llm, prompt=prompt)"
   ]
  },
  {
   "cell_type": "code",
   "execution_count": null,
   "id": "ac3cdeb1-3132-412b-b27a-e37374c6fb4a",
   "metadata": {},
   "outputs": [],
   "source": [
    "print(chain.run(\"eco-friendly water bottles\"))"
   ]
  },
  {
   "cell_type": "markdown",
   "id": "30079f9d-506e-4869-b9c3-f59697166334",
   "metadata": {
    "jp-MarkdownHeadingCollapsed": true,
    "tags": []
   },
   "source": [
    "### The Memory"
   ]
  },
  {
   "cell_type": "code",
   "execution_count": null,
   "id": "b6f07e5f-2c88-4475-8e64-1bd0209060cf",
   "metadata": {},
   "outputs": [],
   "source": [
    "from langchain.llms import OpenAI\n",
    "from langchain.chains import ConversationChain\n",
    "from langchain.memory import ConversationBufferMemory\n",
    "\n",
    "llm = OpenAI(model=\"text-davinci-003\", temperature=0)\n",
    "conversation = ConversationChain(\n",
    "    llm=llm,\n",
    "    verbose=True,\n",
    "    memory=ConversationBufferMemory()\n",
    ")"
   ]
  },
  {
   "cell_type": "code",
   "execution_count": null,
   "id": "7cd9e6df-7487-4373-8881-da473aba2249",
   "metadata": {},
   "outputs": [],
   "source": [
    "conversation.predict(input=\"Tell me about yourself.\")"
   ]
  },
  {
   "cell_type": "code",
   "execution_count": null,
   "id": "d7c389ad-bc81-42c0-9571-64e0f0d30824",
   "metadata": {},
   "outputs": [],
   "source": [
    "conversation.predict(input=\"What can you do?\")"
   ]
  },
  {
   "cell_type": "code",
   "execution_count": null,
   "id": "ce0bbcb5-88e2-47ec-aeb5-84a6c12061ec",
   "metadata": {},
   "outputs": [],
   "source": [
    "conversation.predict(input=\"How can you help me with data analysis\")"
   ]
  },
  {
   "cell_type": "code",
   "execution_count": null,
   "id": "4f3235ba-1969-45f2-a4d7-6e271ff3ee72",
   "metadata": {},
   "outputs": [],
   "source": [
    "print(conversation)"
   ]
  },
  {
   "cell_type": "markdown",
   "id": "8980c969-e533-4551-88de-095fb667b95e",
   "metadata": {},
   "source": [
    "### Deep Lake VectorStore"
   ]
  },
  {
   "cell_type": "code",
   "execution_count": 6,
   "id": "1f30a60b-5672-4cc0-a03b-20a2b4b3abfd",
   "metadata": {},
   "outputs": [],
   "source": [
    "from langchain.embeddings.openai import OpenAIEmbeddings\n",
    "from langchain.vectorstores import DeepLake\n",
    "from langchain.text_splitter import RecursiveCharacterTextSplitter\n",
    "from langchain.llms import OpenAI\n",
    "from langchain.chains import RetrievalQA\n",
    "\n",
    "llm = OpenAI(model=\"text-davinci-003\", temperature=0)\n",
    "embeddings = OpenAIEmbeddings(model=\"text-embedding-ada-002\")"
   ]
  },
  {
   "cell_type": "code",
   "execution_count": 7,
   "id": "540b4921-cdec-45b9-9ead-090091d714ee",
   "metadata": {},
   "outputs": [
    {
     "name": "stdout",
     "output_type": "stream",
     "text": [
      "Your Deep Lake dataset has been successfully created!\n"
     ]
    },
    {
     "name": "stderr",
     "output_type": "stream",
     "text": []
    },
    {
     "name": "stderr",
     "output_type": "stream",
     "text": [
      "|"
     ]
    },
    {
     "name": "stdout",
     "output_type": "stream",
     "text": [
      "Dataset(path='hub://ptah23/langchain_course_from_zero_to_hero', tensors=['embedding', 'id', 'metadata', 'text'])\n",
      "\n",
      "  tensor      htype      shape     dtype  compression\n",
      "  -------    -------    -------   -------  ------- \n",
      " embedding  embedding  (2, 1536)  float32   None   \n",
      "    id        text      (2, 1)      str     None   \n",
      " metadata     json      (2, 1)      str     None   \n",
      "   text       text      (2, 1)      str     None   \n"
     ]
    },
    {
     "name": "stderr",
     "output_type": "stream",
     "text": [
      " \r"
     ]
    },
    {
     "data": {
      "text/plain": [
       "['6e912f1a-33ed-11ee-bfff-5221bcf0254a',\n",
       " '6e913096-33ed-11ee-bfff-5221bcf0254a']"
      ]
     },
     "execution_count": 7,
     "metadata": {},
     "output_type": "execute_result"
    }
   ],
   "source": [
    "\n",
    "texts = [\n",
    "     \"Napoleon Bonaparte was born in 15 August 1769\",\n",
    "    \"Louis XIV was born in 5 September 1638\"\n",
    "]\n",
    "text_splitter = RecursiveCharacterTextSplitter(chunk_size=1000, chunk_overlap=0)\n",
    "docs = text_splitter.create_documents(texts)\n",
    "\n",
    "my_activeloop_org_id= \"ptah23\"\n",
    "my_activeloop_dataset_name = \"langchain_course_from_zero_to_hero\"\n",
    "dataset_path = f\"hub://{my_activeloop_org_id}/{my_activeloop_dataset_name}\"\n",
    "db = DeepLake(dataset_path=dataset_path, embedding_function=embeddings)\n",
    "\n",
    "db.add_documents(docs)"
   ]
  },
  {
   "cell_type": "code",
   "execution_count": 8,
   "id": "a5359552-0178-4cc2-9d68-259ddc8510d5",
   "metadata": {},
   "outputs": [],
   "source": [
    "retrieval_qa = RetrievalQA.from_chain_type(llm=llm, chain_type=\"stuff\", retriever=db.as_retriever())"
   ]
  },
  {
   "cell_type": "code",
   "execution_count": 11,
   "id": "68de4a63-6366-4545-8fdf-37f44aeed9ae",
   "metadata": {},
   "outputs": [],
   "source": [
    "from langchain.agents import initialize_agent, Tool, AgentType\n",
    "tools = [\n",
    "    Tool(\n",
    "        name=\"Retrieval QA System\",\n",
    "        func=retrieval_qa.run,\n",
    "        description=\"Useful for answering questions.\"\n",
    "    )\n",
    "]\n",
    "\n",
    "agent = initialize_agent(tools, llm, agent=AgentType.ZERO_SHOT_REACT_DESCRIPTION, verbose=True)"
   ]
  },
  {
   "cell_type": "code",
   "execution_count": 12,
   "id": "abab94cd-3e41-4299-8397-813be60e5aee",
   "metadata": {},
   "outputs": [
    {
     "name": "stdout",
     "output_type": "stream",
     "text": [
      "\n",
      "\n",
      "\u001b[1m> Entering new  chain...\u001b[0m\n",
      "\u001b[32;1m\u001b[1;3m I need to find out when Napoleon was born.\n",
      "Action: Retrieval QA System\n",
      "Action Input: When was Napoleon born?\u001b[0m\n",
      "Observation: \u001b[36;1m\u001b[1;3m Napoleon was born on 15 August 1769.\u001b[0m\n",
      "Thought:\u001b[32;1m\u001b[1;3m I now know the final answer.\n",
      "Final Answer: Napoleon was born on 15 August 1769.\u001b[0m\n",
      "\n",
      "\u001b[1m> Finished chain.\u001b[0m\n",
      "Napoleon was born on 15 August 1769.\n"
     ]
    }
   ],
   "source": [
    "response = agent.run(\"When was Napoleon born?\")\n",
    "print(response)"
   ]
  },
  {
   "cell_type": "code",
   "execution_count": 13,
   "id": "143d0f5d-fe63-4700-b699-db6a02e0e3e9",
   "metadata": {},
   "outputs": [
    {
     "name": "stdout",
     "output_type": "stream",
     "text": [
      "Deep Lake Dataset in hub://ptah23/langchain_course_from_zero_to_hero already exists, loading from the storage\n"
     ]
    },
    {
     "name": "stderr",
     "output_type": "stream",
     "text": [
      "|"
     ]
    },
    {
     "name": "stdout",
     "output_type": "stream",
     "text": [
      "Dataset(path='hub://ptah23/langchain_course_from_zero_to_hero', tensors=['embedding', 'id', 'metadata', 'text'])\n",
      "\n",
      "  tensor      htype      shape     dtype  compression\n",
      "  -------    -------    -------   -------  ------- \n",
      " embedding  embedding  (4, 1536)  float32   None   \n",
      "    id        text      (4, 1)      str     None   \n",
      " metadata     json      (4, 1)      str     None   \n",
      "   text       text      (4, 1)      str     None   \n"
     ]
    },
    {
     "name": "stderr",
     "output_type": "stream",
     "text": [
      " \r"
     ]
    },
    {
     "data": {
      "text/plain": [
       "['75b512ba-33ee-11ee-bfff-5221bcf0254a',\n",
       " '75b51422-33ee-11ee-bfff-5221bcf0254a']"
      ]
     },
     "execution_count": 13,
     "metadata": {},
     "output_type": "execute_result"
    }
   ],
   "source": [
    "# load the existing Deep Lake dataset and specify the embedding function\n",
    "\n",
    "db = DeepLake(dataset_path=dataset_path, embedding_function=embeddings)\n",
    "\n",
    "texts = [\n",
    "    \"Lady Gaga was born in 28 March 1986\",\n",
    "    \"Michael Jeffrey Jordan was born in 17 February 1963\"\n",
    "]\n",
    "\n",
    "text_splitter = RecursiveCharacterTextSplitter(chunk_size=1000, chunk_overlap=0)\n",
    "docs = text_splitter.create_documents(texts)\n",
    "\n",
    "db.add_documents(docs)"
   ]
  },
  {
   "cell_type": "code",
   "execution_count": 14,
   "id": "2ec02b10-e5cf-466f-861f-b5900b8c9c24",
   "metadata": {},
   "outputs": [],
   "source": [
    "llm = OpenAI(model=\"text-davinci-003\", temperature=0)\n",
    "\n",
    "retrieval_qa = RetrievalQA.from_chain_type(llm=llm, chain_type=\"stuff\", retriever=db.as_retriever())\n",
    "tools = [\n",
    "    Tool(\n",
    "        name=\"Retrieval QA System\",\n",
    "        func=retrieval_qa.run,\n",
    "        description=\"Useful for answering questions.\"\n",
    "    )\n",
    "]\n",
    "agent = initialize_agent(tools, llm, agent=AgentType.ZERO_SHOT_REACT_DESCRIPTION, verbose=True)"
   ]
  },
  {
   "cell_type": "code",
   "execution_count": 15,
   "id": "2c0b67aa-16c9-4781-acb6-5b621dd615e9",
   "metadata": {},
   "outputs": [
    {
     "name": "stdout",
     "output_type": "stream",
     "text": [
      "\n",
      "\n",
      "\u001b[1m> Entering new  chain...\u001b[0m\n",
      "\u001b[32;1m\u001b[1;3m I need to find out when Michael Jordan was born.\n",
      "Action: Retrieval QA System\n",
      "Action Input: When was Michael Jordan born?\u001b[0m\n",
      "Observation: \u001b[36;1m\u001b[1;3m Michael Jordan was born on 17 February 1963.\u001b[0m\n",
      "Thought:\u001b[32;1m\u001b[1;3m I now know the final answer.\n",
      "Final Answer: Michael Jordan was born on 17 February 1963.\u001b[0m\n",
      "\n",
      "\u001b[1m> Finished chain.\u001b[0m\n"
     ]
    },
    {
     "data": {
      "text/plain": [
       "'Michael Jordan was born on 17 February 1963.'"
      ]
     },
     "execution_count": 15,
     "metadata": {},
     "output_type": "execute_result"
    }
   ],
   "source": [
    "agent.run(\"When was Michael Jordan born?\")"
   ]
  },
  {
   "cell_type": "markdown",
   "id": "0b9d7d9e-0c5e-4a79-b621-eb4b01fe01ef",
   "metadata": {},
   "source": [
    "### Agents in LangChain"
   ]
  },
  {
   "cell_type": "code",
   "execution_count": 36,
   "id": "20504adb-2e8a-40e1-b65c-fb6eb6d345b4",
   "metadata": {},
   "outputs": [],
   "source": [
    "from langchain.llms import OpenAI\n",
    "from langchain.agents import AgentType, load_tools, initialize_agent, Tool\n",
    "from langchain.utilities import DuckDuckGoSearchAPIWrapper\n",
    "\n",
    "llm = OpenAI(model=\"text-davinci-003\", temperature=0)"
   ]
  },
  {
   "cell_type": "code",
   "execution_count": 37,
   "id": "fe69ee07-698d-47eb-b0df-5032cfc84431",
   "metadata": {},
   "outputs": [],
   "source": [
    "search = DuckDuckGoSearchAPIWrapper()"
   ]
  },
  {
   "cell_type": "code",
   "execution_count": 38,
   "id": "0983643f-0e98-4011-800b-6b30dc64519e",
   "metadata": {},
   "outputs": [],
   "source": [
    "tools = [\n",
    "    Tool(\n",
    "        name = \"duckduckgo-search\",\n",
    "        func=search.run,\n",
    "        description=\"Useful for when you need to search the web to answer questions about current events\"\n",
    "    )\n",
    "]"
   ]
  },
  {
   "cell_type": "code",
   "execution_count": 39,
   "id": "963c1c13-9c72-456d-aa3d-9467e53492fe",
   "metadata": {},
   "outputs": [],
   "source": [
    "agent = initialize_agent(tools, llm, agent=AgentType.ZERO_SHOT_REACT_DESCRIPTION,verbose=True, max_iterations=6)"
   ]
  },
  {
   "cell_type": "code",
   "execution_count": 40,
   "id": "de385fe0-afe1-43b4-90c6-dd8da6e8724a",
   "metadata": {},
   "outputs": [
    {
     "name": "stdout",
     "output_type": "stream",
     "text": [
      "\n",
      "\n",
      "\u001b[1m> Entering new  chain...\u001b[0m\n",
      "\u001b[32;1m\u001b[1;3m I should search the web for the latest news\n",
      "Action: duckduckgo-search\n",
      "Action Input: \"Mars rover news\"\u001b[0m\n",
      "Observation: \u001b[36;1m\u001b[1;3mShortly before the rover's 11th anniversary on the Red Planet, its team helped guide it up a steep, slippery slope to examine meteor craters. On Aug. 5, NASA's Curiosity rover will notch its 11th year on Mars by doing what it does best: studying the Red Planet's surface. The intrepid bot recently investigated a location nicknamed \"Jau ... Mars Exploration Rovers. News. The Latest from Mars. View By News Type: The intrepid rotorcraft may head skyward again within the week. Martian maps are full of monikers recognizing places on Earth, explorers, and even cartoon characters. Get the Mars Newsletter. Subscribe to newsletter. Follow the Mission. NASA's Ingenuity Mars helicopter throws a shadow on the dusty surface on Aug. 2, 2023. Ingenuity is ready for its closeup, Mr. DeMille. NASA's surprisingly long-lived Mars helicopter is the star ... On Aug. 5, NASA's Curiosity rover will notch its 11th year on Mars by doing what it does best: studying the Red Planet's surface. The intrepid bot recently investigated a location nicknamed \"Jau ... On Aug. 5, NASA's Curiosity rover will notch its 11th year on Mars by doing what it does best: studying the Red Planet's surface. The intrepid bot recently investigated a location nicknamed \"Jau\" that is pockmarked with dozens of impact craters. Scientists have rarely gotten a close-up view of so many Martian craters in one place.\u001b[0m\n",
      "Thought:\u001b[32;1m\u001b[1;3m I now know the latest news about the Mars rover\n",
      "Final Answer: On Aug. 5, NASA's Curiosity rover will notch its 11th year on Mars by doing what it does best: studying the Red Planet's surface. The intrepid bot recently investigated a location nicknamed \"Jau\" that is pockmarked with dozens of impact craters. Scientists have rarely gotten a close-up view of so many Martian craters in one place.\u001b[0m\n",
      "\n",
      "\u001b[1m> Finished chain.\u001b[0m\n"
     ]
    },
    {
     "data": {
      "text/plain": [
       "{'input': \"What's the latest news about the Mars rover?\",\n",
       " 'output': 'On Aug. 5, NASA\\'s Curiosity rover will notch its 11th year on Mars by doing what it does best: studying the Red Planet\\'s surface. The intrepid bot recently investigated a location nicknamed \"Jau\" that is pockmarked with dozens of impact craters. Scientists have rarely gotten a close-up view of so many Martian craters in one place.'}"
      ]
     },
     "execution_count": 40,
     "metadata": {},
     "output_type": "execute_result"
    }
   ],
   "source": [
    "agent(\"What's the latest news about the Mars rover?\")"
   ]
  },
  {
   "cell_type": "markdown",
   "id": "03f4c363-442f-40b0-af6a-a23da9044d19",
   "metadata": {},
   "source": [
    "### Tools in LangChain"
   ]
  },
  {
   "cell_type": "code",
   "execution_count": 41,
   "id": "93ad915a-8fd2-4d73-894c-65595a9bce4f",
   "metadata": {},
   "outputs": [],
   "source": [
    "from langchain.llms import OpenAI\n",
    "from langchain.agents import Tool, initialize_agent, AgentType\n",
    "from langchain.utilities import DuckDuckGoSearchAPIWrapper\n",
    "from langchain.prompts import PromptTemplate\n",
    "from langchain.chains import LLMChain"
   ]
  },
  {
   "cell_type": "code",
   "execution_count": 42,
   "id": "89e8e448-883f-4bc3-8930-f03bd7b6e525",
   "metadata": {},
   "outputs": [],
   "source": [
    "llm = OpenAI(model=\"text-davinci-003\", temperature=0)\n",
    "prompt = PromptTemplate(input_variables=[\"query\"], template=\"Write a summary of the following text: {query}\")\n",
    "\n",
    "summarize_chain = LLMChain(llm=llm, prompt=prompt)"
   ]
  },
  {
   "cell_type": "code",
   "execution_count": 43,
   "id": "6a8f02fc-5471-4a6d-aa16-4ccd73a97670",
   "metadata": {},
   "outputs": [],
   "source": [
    "search = DuckDuckGoSearchAPIWrapper()\n",
    "tools = [\n",
    "    Tool(name=\"Search\", func=search.run, description=\"Useful for finding information abou recent events\"),\n",
    "    Tool(name=\"Summarizer\", func=summarize_chain.run, description=\"Useful for summarizing texts\")\n",
    "]"
   ]
  },
  {
   "cell_type": "code",
   "execution_count": 44,
   "id": "42367407-d520-42c8-912c-6f1d3d2b7e2f",
   "metadata": {},
   "outputs": [],
   "source": [
    "agent = initialize_agent(tools, llm, agent=AgentType.ZERO_SHOT_REACT_DESCRIPTION,verbose=True)"
   ]
  },
  {
   "cell_type": "code",
   "execution_count": 45,
   "id": "81afc92b-5b57-49d7-9183-87d3fba296cb",
   "metadata": {},
   "outputs": [
    {
     "name": "stdout",
     "output_type": "stream",
     "text": [
      "\n",
      "\n",
      "\u001b[1m> Entering new  chain...\u001b[0m\n",
      "\u001b[32;1m\u001b[1;3m I should search for recent news about the Mars rover and then summarize the results.\n",
      "Action: Search\n",
      "Action Input: Latest news about the Mars rover\u001b[0m\n",
      "Observation: \u001b[36;1m\u001b[1;3mShortly before the rover's 11th anniversary on the Red Planet, its team helped guide it up a steep, slippery slope to examine meteor craters. On Aug. 5, NASA's Curiosity rover will notch its 11th year on Mars by doing what it does best: studying the Red Planet's surface. The intrepid bot recently investigated a location nicknamed \"Jau ... The supposed sighting was detailed on a blog, UFO Sightings Daily, written by Scott C Waring. In an image originally sent back by Nasa's Mars Curiosity Rover, Waring claimed to have spotted ... Earth planning date: Tuesday July 25, 2023 The rover engineers yet again did a fantastic job navigating Curiosity through this tricky terrain of fractured blocks and sand. Our parking spot is on the rim of one of the larger craters within a cluster of craters that we have been driving towards for the last few weeks. NASA's Ingenuity Mars helicopter throws a shadow on the dusty surface on Aug. 2, 2023. Ingenuity is ready for its closeup, Mr. DeMille. NASA's surprisingly long-lived Mars helicopter is the star ... NASA's Curiosity rover is marking eleven years on Mars with an image of its toughest climb yet. Get any of our free email newsletters — news headlines, sports, arts & entertainment, state ...\u001b[0m\n",
      "Thought:\u001b[32;1m\u001b[1;3m I now have enough information to summarize the results.\n",
      "Action: Summarizer\n",
      "Action Input: Shortly before the rover's 11th anniversary on the Red Planet, its team helped guide it up a steep, slippery slope to examine meteor craters. On Aug. 5, NASA's Curiosity rover will notch its 11th year on Mars by doing what it does best: studying the Red Planet's surface. The intrepid bot recently investigated a location nicknamed \"Jau ... The supposed sighting was detailed on a blog, UFO Sightings Daily, written by Scott C Waring. In an image originally sent back by Nasa's Mars Curiosity Rover, Waring claimed to have spotted ... Earth planning date: Tuesday July 25, 2023 The rover engineers yet again did a fantastic job navigating Curiosity through this tricky terrain of fractured blocks and sand. Our parking spot is on the rim of one of the larger craters within a cluster of craters that we have been driving towards for the last few weeks. NASA's Ingenuity Mars helicopter throws a shadow on the dusty surface on Aug. 2, 2023. Ingenuity is ready for its closeup, Mr. DeMille. NASA's surprisingly long-lived Mars helicopter is the star ... NASA's Curiosity rover is marking eleven\u001b[0m\n",
      "Observation: \u001b[33;1m\u001b[1;3m years on the Red Planet by exploring a cluster of meteor craters. The rover's team has successfully navigated it up a steep, slippery slope to examine the craters. On August 5th, the rover will celebrate its 11th anniversary on Mars by continuing to study the planet's surface.\u001b[0m\n",
      "Thought:"
     ]
    },
    {
     "name": "stderr",
     "output_type": "stream",
     "text": [
      "Retrying langchain.llms.openai.completion_with_retry.<locals>._completion_with_retry in 4.0 seconds as it raised RateLimitError: Rate limit reached for default-text-davinci-003 in organization org-xpDe9qgdMkDxJBKlyn0Mfnhq on requests per min. Limit: 3 / min. Please try again in 20s. Contact us through our help center at help.openai.com if you continue to have issues. Please add a payment method to your account to increase your rate limit. Visit https://platform.openai.com/account/billing to add a payment method..\n",
      "Retrying langchain.llms.openai.completion_with_retry.<locals>._completion_with_retry in 4.0 seconds as it raised RateLimitError: Rate limit reached for default-text-davinci-003 in organization org-xpDe9qgdMkDxJBKlyn0Mfnhq on requests per min. Limit: 3 / min. Please try again in 20s. Contact us through our help center at help.openai.com if you continue to have issues. Please add a payment method to your account to increase your rate limit. Visit https://platform.openai.com/account/billing to add a payment method..\n",
      "Retrying langchain.llms.openai.completion_with_retry.<locals>._completion_with_retry in 4.0 seconds as it raised RateLimitError: Rate limit reached for default-text-davinci-003 in organization org-xpDe9qgdMkDxJBKlyn0Mfnhq on requests per min. Limit: 3 / min. Please try again in 20s. Contact us through our help center at help.openai.com if you continue to have issues. Please add a payment method to your account to increase your rate limit. Visit https://platform.openai.com/account/billing to add a payment method..\n"
     ]
    },
    {
     "name": "stdout",
     "output_type": "stream",
     "text": [
      "\u001b[32;1m\u001b[1;3m I now know the final answer.\n",
      "Final Answer: NASA's Curiosity rover is celebrating its 11th anniversary on Mars by exploring a cluster of meteor craters. The rover's team has successfully navigated it up a steep, slippery slope to examine the craters. On August 5th, the rover will celebrate its 11th anniversary on Mars by continuing to study the planet's surface.\u001b[0m\n",
      "\n",
      "\u001b[1m> Finished chain.\u001b[0m\n"
     ]
    },
    {
     "data": {
      "text/plain": [
       "\"NASA's Curiosity rover is celebrating its 11th anniversary on Mars by exploring a cluster of meteor craters. The rover's team has successfully navigated it up a steep, slippery slope to examine the craters. On August 5th, the rover will celebrate its 11th anniversary on Mars by continuing to study the planet's surface.\""
      ]
     },
     "execution_count": 45,
     "metadata": {},
     "output_type": "execute_result"
    }
   ],
   "source": [
    "response = agent(\"What's the latest news about the Mars rover? Then please summarize the results.\")\n",
    "response['output']"
   ]
  },
  {
   "cell_type": "code",
   "execution_count": null,
   "id": "e364a3ef-d32a-4330-8981-e8f7543c106a",
   "metadata": {},
   "outputs": [],
   "source": []
  }
 ],
 "metadata": {
  "kernelspec": {
   "display_name": "Python 3 (ipykernel)",
   "language": "python",
   "name": "python3"
  },
  "language_info": {
   "codemirror_mode": {
    "name": "ipython",
    "version": 3
   },
   "file_extension": ".py",
   "mimetype": "text/x-python",
   "name": "python",
   "nbconvert_exporter": "python",
   "pygments_lexer": "ipython3",
   "version": "3.9.16"
  }
 },
 "nbformat": 4,
 "nbformat_minor": 5
}
